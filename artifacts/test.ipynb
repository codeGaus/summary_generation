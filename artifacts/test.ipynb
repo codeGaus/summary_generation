{
 "cells": [
  {
   "cell_type": "code",
   "execution_count": 1,
   "metadata": {},
   "outputs": [],
   "source": [
    "import json\n",
    "\n",
    "\n",
    "def read_model_response():\n",
    "    with open('data/tmp/last_json.txt') as f:\n",
    "        data = f.read()\n",
    "    return data"
   ]
  },
  {
   "cell_type": "code",
   "execution_count": 2,
   "metadata": {},
   "outputs": [],
   "source": [
    "data = read_model_response()"
   ]
  },
  {
   "cell_type": "code",
   "execution_count": 3,
   "metadata": {},
   "outputs": [],
   "source": [
    "data = json.loads(data)"
   ]
  },
  {
   "cell_type": "code",
   "execution_count": 4,
   "metadata": {},
   "outputs": [
    {
     "data": {
      "text/plain": [
       "{'Theme': 'Profession Business Analyst',\n",
       " 'MainQuestions': [{'Question': 'What does a business analyst do?'},\n",
       "  {'Question': 'What is the relationship between other roles in our date office?'},\n",
       "  {'Question': 'How does he participate in interaction?'},\n",
       "  {'Question': 'What tasks does he collect information for?'},\n",
       "  {'Question': 'What nuances and features will he work on?'},\n",
       "  {'Question': 'How will he control compliance with requirements?'},\n",
       "  {'Question': 'What standard working day does he have?'},\n",
       "  {'Question': 'In which applications does he work?'},\n",
       "  {'Question': 'How much time does he spend on communication and fixing requirements?'},\n",
       "  {'Question': 'To what extent does he update BFU?'},\n",
       "  {'Question': 'What formats of requirements can he collect?'},\n",
       "  {'Question': 'Does he participate in testing?'}],\n",
       " 'SecondaryQuestions': [{'Question': 'What other roles are there in our date office?'},\n",
       "  {'Subquestion': '1.1'},\n",
       "  {'Question': 'What systems are used in our date office?'},\n",
       "  {'subquestion': '1.2'},\n",
       "  {'Question': 'What restrictions are there in the systems?'},\n",
       "  {'subquestion': ' 1.3'},\n",
       "  {'Question': 'What language does the rest of the working group understand?'},\n",
       "  {'subquestion': '  1.4'},\n",
       "  {'Question': 'What questions may arise during implementation?'},\n",
       "  {'subquestion': '   1.5'},\n",
       "  {'Question': 'What comments are there on BFT?'},\n",
       "  {'subquestion': '    1.6'},\n",
       "  {'Question': 'What formats can he use for requirements?'},\n",
       "  {'subquestion': '     1.7'},\n",
       "  {'Question': 'What types of testing can he participate in?'},\n",
       "  {'subquestion': '      1.8'}],\n",
       " 'Responsible': [{'Name': 'Business Analyst'},\n",
       "  {'Name': 'PUDA team working group'},\n",
       "  {'Name': 'Project orderer'},\n",
       "  {'Name': 'Representatives of project orderers'}],\n",
       " 'FrequencyMentioning': [{'Name': 'Very high frequency (mentioned in every question)'},\n",
       "  {'Name': 'High frequency (mentioned in most questions)'},\n",
       "  {'Name': 'Average frequency (mentioned in half of the questions)'},\n",
       "  {'Name': 'Low frequency (mentioned in several questions)'},\n",
       "  {'Name': 'Minimal frequency (mentioned in one question)'}],\n",
       " 'PercentageRatio': [{'Name': '100%'},\n",
       "  {'Name': '90%'},\n",
       "  {'Name': '70%'},\n",
       "  {'Name': '50%'},\n",
       "  {'Name': '30%'},\n",
       "  {'Name': '20%'},\n",
       "  {'Name': '10%'},\n",
       "  {'Name': '5%'},\n",
       "  {'Name': '3%'},\n",
       "  {'Name': '1%'},\n",
       "  {'Name': '1%'}]}"
      ]
     },
     "execution_count": 4,
     "metadata": {},
     "output_type": "execute_result"
    }
   ],
   "source": [
    "data"
   ]
  },
  {
   "cell_type": "code",
   "execution_count": 15,
   "metadata": {},
   "outputs": [],
   "source": [
    "with open('data/diagram/data.txt', 'w') as f:\n",
    "    f.write(data['Theme'])\n",
    "    for i, q in enumerate(data['MainQuestions']):\n",
    "        f.write('  ' + q['Question'] + '\\n')\n",
    "        if data['SecondaryQuestions'][i].get('Question', None):\n",
    "            f.write('    ' + data['SecondaryQuestions'][i]['Question'])\n",
    "        \n"
   ]
  },
  {
   "cell_type": "code",
   "execution_count": 11,
   "metadata": {},
   "outputs": [
    {
     "data": {
      "text/plain": [
       "(12, 16)"
      ]
     },
     "execution_count": 11,
     "metadata": {},
     "output_type": "execute_result"
    }
   ],
   "source": [
    "len(data['MainQuestions']), len(data['SecondaryQuestions'])"
   ]
  },
  {
   "cell_type": "code",
   "execution_count": 12,
   "metadata": {},
   "outputs": [
    {
     "data": {
      "text/plain": [
       "[{'Question': 'What other roles are there in our date office?'},\n",
       " {'Subquestion': '1.1'},\n",
       " {'Question': 'What systems are used in our date office?'},\n",
       " {'subquestion': '1.2'},\n",
       " {'Question': 'What restrictions are there in the systems?'},\n",
       " {'subquestion': ' 1.3'},\n",
       " {'Question': 'What language does the rest of the working group understand?'},\n",
       " {'subquestion': '  1.4'},\n",
       " {'Question': 'What questions may arise during implementation?'},\n",
       " {'subquestion': '   1.5'},\n",
       " {'Question': 'What comments are there on BFT?'},\n",
       " {'subquestion': '    1.6'},\n",
       " {'Question': 'What formats can he use for requirements?'},\n",
       " {'subquestion': '     1.7'},\n",
       " {'Question': 'What types of testing can he participate in?'},\n",
       " {'subquestion': '      1.8'}]"
      ]
     },
     "execution_count": 12,
     "metadata": {},
     "output_type": "execute_result"
    }
   ],
   "source": [
    "data['SecondaryQuestions']"
   ]
  },
  {
   "cell_type": "code",
   "execution_count": null,
   "metadata": {},
   "outputs": [],
   "source": []
  }
 ],
 "metadata": {
  "kernelspec": {
   "display_name": "hackaton_env",
   "language": "python",
   "name": "python3"
  },
  "language_info": {
   "codemirror_mode": {
    "name": "ipython",
    "version": 3
   },
   "file_extension": ".py",
   "mimetype": "text/x-python",
   "name": "python",
   "nbconvert_exporter": "python",
   "pygments_lexer": "ipython3",
   "version": "3.9.18"
  }
 },
 "nbformat": 4,
 "nbformat_minor": 2
}
